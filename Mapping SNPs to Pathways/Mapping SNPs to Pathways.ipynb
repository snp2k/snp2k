{
 "cells": [
  {
   "cell_type": "markdown",
   "metadata": {},
   "source": [
    "After we saw the following [tweet](https://twitter.com/cecilejanssens/status/1142864439638679554) from [@cecilejanssens](https://twitter.com/cecilejanssens):\n",
    "\n",
    "<blockquote class=\"twitter-tweet\" data-lang=\"en\"><p lang=\"en\" dir=\"ltr\">Why I think (current) polygenic risk scores are just a phase? Because I believe that scientists will find better ways ways to model the role of SNPs in molecular pathways and their combined contribution to disease risk. This cannot be it. <a href=\"https://t.co/p9nP5hgQV0\">pic.twitter.com/p9nP5hgQV0</a></p>&mdash; Cecile Janssens (@cecilejanssens) <a href=\"https://twitter.com/cecilejanssens/status/1142864439638679554?ref_src=twsrc%5Etfw\">June 23, 2019</a></blockquote>\n",
    "<script async src=\"https://platform.twitter.com/widgets.js\" charset=\"utf-8\"></script>\n",
    "\n",
    "Daniel and I asked how easy it would be to map single nucleotide polymorphisms (SNPs) from a [Bio2BEL](https://github.com/bio2bel) repository like [``bio2bel_phewascatalog``](https://github.com/bio2bel/phewascatalog) to one of the major pathway databases like KEGG, Reactome, and WikiPathways."
   ]
  },
  {
   "cell_type": "code",
   "execution_count": 1,
   "metadata": {},
   "outputs": [],
   "source": [
    "import getpass\n",
    "import os\n",
    "import sys\n",
    "import time\n",
    "from collections import defaultdict, Counter\n",
    "\n",
    "import bio2bel_kegg\n",
    "import bio2bel_phewascatalog\n",
    "import bio2bel_reactome\n",
    "import bio2bel_wikipathways\n",
    "import matplotlib.pyplot as plt\n",
    "import pandas as pd\n",
    "from tqdm import tqdm_notebook as tqdm"
   ]
  },
  {
   "cell_type": "code",
   "execution_count": 2,
   "metadata": {},
   "outputs": [],
   "source": [
    "%matplotlib inline"
   ]
  },
  {
   "cell_type": "code",
   "execution_count": 3,
   "metadata": {},
   "outputs": [
    {
     "name": "stdout",
     "output_type": "stream",
     "text": [
      "3.7.3 (default, Mar 27 2019, 09:23:39) \n",
      "[Clang 10.0.0 (clang-1000.11.45.5)]\n"
     ]
    }
   ],
   "source": [
    "print(sys.version)"
   ]
  },
  {
   "cell_type": "code",
   "execution_count": 4,
   "metadata": {},
   "outputs": [
    {
     "name": "stdout",
     "output_type": "stream",
     "text": [
      "Mon Jun 24 15:14:43 2019\n"
     ]
    }
   ],
   "source": [
    "print(time.asctime())"
   ]
  },
  {
   "cell_type": "code",
   "execution_count": 5,
   "metadata": {},
   "outputs": [
    {
     "name": "stdout",
     "output_type": "stream",
     "text": [
      "cthoyt\n"
     ]
    }
   ],
   "source": [
    "print(getpass.getuser())"
   ]
  },
  {
   "cell_type": "code",
   "execution_count": 6,
   "metadata": {},
   "outputs": [
    {
     "name": "stdout",
     "output_type": "stream",
     "text": [
      "0.2.5-dev\n",
      "0.2.4-dev\n",
      "0.2.4-dev\n"
     ]
    }
   ],
   "source": [
    "print(bio2bel_kegg.get_version())\n",
    "print(bio2bel_reactome.get_version())\n",
    "print(bio2bel_wikipathways.get_version())"
   ]
  },
  {
   "cell_type": "code",
   "execution_count": 7,
   "metadata": {},
   "outputs": [
    {
     "name": "stdout",
     "output_type": "stream",
     "text": [
      "0.0.1-dev\n"
     ]
    }
   ],
   "source": [
    "print(bio2bel_phewascatalog.get_version())"
   ]
  },
  {
   "cell_type": "markdown",
   "metadata": {},
   "source": [
    "Generate the gene to SNP mappings from PheWAS Catalog. This step can be interchanged with dbSNP, GWAS Catalog, or other sources."
   ]
  },
  {
   "cell_type": "code",
   "execution_count": 8,
   "metadata": {},
   "outputs": [
    {
     "data": {
      "text/html": [
       "<div>\n",
       "<style scoped>\n",
       "    .dataframe tbody tr th:only-of-type {\n",
       "        vertical-align: middle;\n",
       "    }\n",
       "\n",
       "    .dataframe tbody tr th {\n",
       "        vertical-align: top;\n",
       "    }\n",
       "\n",
       "    .dataframe thead th {\n",
       "        text-align: right;\n",
       "    }\n",
       "</style>\n",
       "<table border=\"1\" class=\"dataframe\">\n",
       "  <thead>\n",
       "    <tr style=\"text-align: right;\">\n",
       "      <th></th>\n",
       "      <th>chromosome</th>\n",
       "      <th>snp</th>\n",
       "      <th>phewas phenotype</th>\n",
       "      <th>cases</th>\n",
       "      <th>p-value</th>\n",
       "      <th>odds-ratio</th>\n",
       "      <th>gene_name</th>\n",
       "      <th>phewas code</th>\n",
       "      <th>gwas-associations</th>\n",
       "    </tr>\n",
       "  </thead>\n",
       "  <tbody>\n",
       "    <tr>\n",
       "      <th>0</th>\n",
       "      <td>19 45395619</td>\n",
       "      <td>rs2075650</td>\n",
       "      <td>Alzheimer's disease</td>\n",
       "      <td>737</td>\n",
       "      <td>5.237000e-28</td>\n",
       "      <td>2.410</td>\n",
       "      <td>TOMM40</td>\n",
       "      <td>290.11</td>\n",
       "      <td>Alzheimer's disease, Alzheimer's disease bioma...</td>\n",
       "    </tr>\n",
       "    <tr>\n",
       "      <th>1</th>\n",
       "      <td>19 45395619</td>\n",
       "      <td>rs2075650</td>\n",
       "      <td>Dementias</td>\n",
       "      <td>1170</td>\n",
       "      <td>2.409000e-26</td>\n",
       "      <td>2.114</td>\n",
       "      <td>TOMM40</td>\n",
       "      <td>290.10</td>\n",
       "      <td>Alzheimer's disease, Alzheimer's disease bioma...</td>\n",
       "    </tr>\n",
       "    <tr>\n",
       "      <th>2</th>\n",
       "      <td>6 396321</td>\n",
       "      <td>rs12203592</td>\n",
       "      <td>Actinic keratosis</td>\n",
       "      <td>2505</td>\n",
       "      <td>4.141000e-26</td>\n",
       "      <td>1.691</td>\n",
       "      <td>IRF4</td>\n",
       "      <td>702.10</td>\n",
       "      <td>Eye color, Hair color, Freckling, Progressive ...</td>\n",
       "    </tr>\n",
       "    <tr>\n",
       "      <th>3</th>\n",
       "      <td>6 26093141</td>\n",
       "      <td>rs1800562</td>\n",
       "      <td>Iron metabolism disorder</td>\n",
       "      <td>40</td>\n",
       "      <td>3.409000e-25</td>\n",
       "      <td>12.270</td>\n",
       "      <td>HFE</td>\n",
       "      <td>275.10</td>\n",
       "      <td>Mean corpuscular hemoglobin, Glycated hemoglob...</td>\n",
       "    </tr>\n",
       "    <tr>\n",
       "      <th>4</th>\n",
       "      <td>19 45395619</td>\n",
       "      <td>rs2075650</td>\n",
       "      <td>Delirium dementia and amnestic disorders</td>\n",
       "      <td>1566</td>\n",
       "      <td>8.027000e-24</td>\n",
       "      <td>1.841</td>\n",
       "      <td>TOMM40</td>\n",
       "      <td>290.00</td>\n",
       "      <td>Alzheimer's disease, Alzheimer's disease bioma...</td>\n",
       "    </tr>\n",
       "  </tbody>\n",
       "</table>\n",
       "</div>"
      ],
      "text/plain": [
       "    chromosome         snp                          phewas phenotype  cases  \\\n",
       "0  19 45395619   rs2075650                       Alzheimer's disease    737   \n",
       "1  19 45395619   rs2075650                                 Dementias   1170   \n",
       "2     6 396321  rs12203592                         Actinic keratosis   2505   \n",
       "3   6 26093141   rs1800562                  Iron metabolism disorder     40   \n",
       "4  19 45395619   rs2075650  Delirium dementia and amnestic disorders   1566   \n",
       "\n",
       "        p-value  odds-ratio gene_name  phewas code  \\\n",
       "0  5.237000e-28       2.410    TOMM40       290.11   \n",
       "1  2.409000e-26       2.114    TOMM40       290.10   \n",
       "2  4.141000e-26       1.691      IRF4       702.10   \n",
       "3  3.409000e-25      12.270       HFE       275.10   \n",
       "4  8.027000e-24       1.841    TOMM40       290.00   \n",
       "\n",
       "                                   gwas-associations  \n",
       "0  Alzheimer's disease, Alzheimer's disease bioma...  \n",
       "1  Alzheimer's disease, Alzheimer's disease bioma...  \n",
       "2  Eye color, Hair color, Freckling, Progressive ...  \n",
       "3  Mean corpuscular hemoglobin, Glycated hemoglob...  \n",
       "4  Alzheimer's disease, Alzheimer's disease bioma...  "
      ]
     },
     "execution_count": 8,
     "metadata": {},
     "output_type": "execute_result"
    }
   ],
   "source": [
    "phewascatalog_df = bio2bel_phewascatalog.parser.get_df()\n",
    "phewascatalog_df = phewascatalog_df[phewascatalog_df.gene_name.notna()]\n",
    "phewascatalog_df.head()"
   ]
  },
  {
   "cell_type": "code",
   "execution_count": 9,
   "metadata": {},
   "outputs": [],
   "source": [
    "gene_to_snps = defaultdict(set)\n",
    "for snp, gene_symbol in phewascatalog_df[['snp', 'gene_name']].values:\n",
    "    gene_to_snps[gene_symbol].add(snp)\n",
    "gene_to_snps = dict(gene_to_snps)"
   ]
  },
  {
   "cell_type": "code",
   "execution_count": 10,
   "metadata": {},
   "outputs": [
    {
     "data": {
      "text/plain": [
       "Counter({2: 246, 3: 92, 1: 1393, 8: 2, 4: 26, 5: 10, 6: 5, 7: 1})"
      ]
     },
     "execution_count": 10,
     "metadata": {},
     "output_type": "execute_result"
    }
   ],
   "source": [
    "# promiscuity of SNPs\n",
    "Counter(len(v) for v in gene_to_snps.values())"
   ]
  },
  {
   "cell_type": "markdown",
   "metadata": {},
   "source": [
    "## Map Pathways to Genes"
   ]
  },
  {
   "cell_type": "code",
   "execution_count": 11,
   "metadata": {},
   "outputs": [],
   "source": [
    "def get_pathway_to_gene(manager):\n",
    "    pathway_to_gene = defaultdict(set)\n",
    "\n",
    "    for pathway in tqdm(manager.get_all_pathways(), desc='Getting pathways/genes'):\n",
    "        for protein in pathway.proteins:\n",
    "            pathway_to_gene[pathway].add(protein.hgnc_symbol)\n",
    "\n",
    "    return dict(pathway_to_gene)\n",
    "\n",
    "def get_pathway_to_snp(pathway_to_gene):\n",
    "    \"\"\"Combine the mappings to relate pathways to SNPs.\n",
    "    \n",
    "    This could be further extended to weight pathway-SNP associations\n",
    "    by count, or to normalize by the frequency of each SNP being\n",
    "    mapped to multiple genes.\n",
    "    \"\"\"\n",
    "    pathway_to_snp = defaultdict(set)\n",
    "\n",
    "    for pathway, gene_symbols in pathway_to_gene.items():\n",
    "        for gene_symbol in gene_symbols:\n",
    "            pathway_to_snp[pathway].update(gene_to_snps.get(gene_symbol, set()))\n",
    "\n",
    "    return dict(pathway_to_snp)"
   ]
  },
  {
   "cell_type": "markdown",
   "metadata": {},
   "source": [
    "### KEGG"
   ]
  },
  {
   "cell_type": "code",
   "execution_count": 12,
   "metadata": {},
   "outputs": [
    {
     "data": {
      "application/vnd.jupyter.widget-view+json": {
       "model_id": "c2789ea945914faab97f26089613477b",
       "version_major": 2,
       "version_minor": 0
      },
      "text/plain": [
       "HBox(children=(IntProgress(value=0, description='Getting pathways/genes', max=330, style=ProgressStyle(descrip…"
      ]
     },
     "metadata": {},
     "output_type": "display_data"
    },
    {
     "name": "stdout",
     "output_type": "stream",
     "text": [
      "\n"
     ]
    }
   ],
   "source": [
    "kegg_manager = bio2bel_kegg.Manager()\n",
    "kegg_pathway_to_gene = get_pathway_to_gene(kegg_manager)\n",
    "kegg_pathway_to_snp = get_pathway_to_snp(kegg_pathway_to_gene)"
   ]
  },
  {
   "cell_type": "code",
   "execution_count": 13,
   "metadata": {},
   "outputs": [
    {
     "data": {
      "text/html": [
       "<div>\n",
       "<style scoped>\n",
       "    .dataframe tbody tr th:only-of-type {\n",
       "        vertical-align: middle;\n",
       "    }\n",
       "\n",
       "    .dataframe tbody tr th {\n",
       "        vertical-align: top;\n",
       "    }\n",
       "\n",
       "    .dataframe thead th {\n",
       "        text-align: right;\n",
       "    }\n",
       "</style>\n",
       "<table border=\"1\" class=\"dataframe\">\n",
       "  <thead>\n",
       "    <tr style=\"text-align: right;\">\n",
       "      <th></th>\n",
       "      <th>kegg_id</th>\n",
       "      <th>name</th>\n",
       "      <th>snps</th>\n",
       "    </tr>\n",
       "  </thead>\n",
       "  <tbody>\n",
       "    <tr>\n",
       "      <th>0</th>\n",
       "      <td>path:hsa00010</td>\n",
       "      <td>Glycolysis / Gluconeogenesis - Homo sapiens (h...</td>\n",
       "      <td>rs560887, rs1789924, rs730497, rs7072268, rs28...</td>\n",
       "    </tr>\n",
       "    <tr>\n",
       "      <th>1</th>\n",
       "      <td>path:hsa00020</td>\n",
       "      <td>Citrate cycle (TCA cycle) - Homo sapiens (human)</td>\n",
       "      <td>rs7122539, rs6792584</td>\n",
       "    </tr>\n",
       "    <tr>\n",
       "      <th>2</th>\n",
       "      <td>path:hsa00030</td>\n",
       "      <td>Pentose phosphate pathway - Homo sapiens (human)</td>\n",
       "      <td></td>\n",
       "    </tr>\n",
       "    <tr>\n",
       "      <th>3</th>\n",
       "      <td>path:hsa00040</td>\n",
       "      <td>Pentose and glucuronate interconversions - Hom...</td>\n",
       "      <td>rs6742078, rs4148325, rs11892031, rs887829</td>\n",
       "    </tr>\n",
       "    <tr>\n",
       "      <th>4</th>\n",
       "      <td>path:hsa00051</td>\n",
       "      <td>Fructose and mannose metabolism - Homo sapiens...</td>\n",
       "      <td>rs9378688, rs7072268</td>\n",
       "    </tr>\n",
       "  </tbody>\n",
       "</table>\n",
       "</div>"
      ],
      "text/plain": [
       "         kegg_id                                               name  \\\n",
       "0  path:hsa00010  Glycolysis / Gluconeogenesis - Homo sapiens (h...   \n",
       "1  path:hsa00020   Citrate cycle (TCA cycle) - Homo sapiens (human)   \n",
       "2  path:hsa00030   Pentose phosphate pathway - Homo sapiens (human)   \n",
       "3  path:hsa00040  Pentose and glucuronate interconversions - Hom...   \n",
       "4  path:hsa00051  Fructose and mannose metabolism - Homo sapiens...   \n",
       "\n",
       "                                                snps  \n",
       "0  rs560887, rs1789924, rs730497, rs7072268, rs28...  \n",
       "1                               rs7122539, rs6792584  \n",
       "2                                                     \n",
       "3         rs6742078, rs4148325, rs11892031, rs887829  \n",
       "4                               rs9378688, rs7072268  "
      ]
     },
     "execution_count": 13,
     "metadata": {},
     "output_type": "execute_result"
    }
   ],
   "source": [
    "kegg_df = pd.DataFrame([\n",
    "    (pathway.kegg_id, pathway.name, ', '.join(snps))\n",
    "    for pathway, snps in kegg_pathway_to_snp.items()\n",
    "], columns=['kegg_id', 'name', 'snps'])\n",
    "kegg_df.head()"
   ]
  },
  {
   "cell_type": "markdown",
   "metadata": {},
   "source": [
    "### WikiPathways"
   ]
  },
  {
   "cell_type": "code",
   "execution_count": 14,
   "metadata": {},
   "outputs": [
    {
     "data": {
      "application/vnd.jupyter.widget-view+json": {
       "model_id": "1e1520132e9f42c19f523be1de17c823",
       "version_major": 2,
       "version_minor": 0
      },
      "text/plain": [
       "HBox(children=(IntProgress(value=0, description='Getting pathways/genes', max=513, style=ProgressStyle(descrip…"
      ]
     },
     "metadata": {},
     "output_type": "display_data"
    },
    {
     "name": "stdout",
     "output_type": "stream",
     "text": [
      "\n"
     ]
    }
   ],
   "source": [
    "wikipathways_manager = bio2bel_wikipathways.Manager()\n",
    "wikipathways_pathway_to_gene = get_pathway_to_gene(wikipathways_manager)\n",
    "wikipathways_pathway_to_snp = get_pathway_to_snp(wikipathways_pathway_to_gene)"
   ]
  },
  {
   "cell_type": "code",
   "execution_count": 15,
   "metadata": {},
   "outputs": [
    {
     "data": {
      "text/html": [
       "<div>\n",
       "<style scoped>\n",
       "    .dataframe tbody tr th:only-of-type {\n",
       "        vertical-align: middle;\n",
       "    }\n",
       "\n",
       "    .dataframe tbody tr th {\n",
       "        vertical-align: top;\n",
       "    }\n",
       "\n",
       "    .dataframe thead th {\n",
       "        text-align: right;\n",
       "    }\n",
       "</style>\n",
       "<table border=\"1\" class=\"dataframe\">\n",
       "  <thead>\n",
       "    <tr style=\"text-align: right;\">\n",
       "      <th></th>\n",
       "      <th>wikipathways_id</th>\n",
       "      <th>name</th>\n",
       "      <th>snps</th>\n",
       "    </tr>\n",
       "  </thead>\n",
       "  <tbody>\n",
       "    <tr>\n",
       "      <th>0</th>\n",
       "      <td>WP23</td>\n",
       "      <td>B Cell Receptor Signaling Pathway</td>\n",
       "      <td>rs3780792, rs13017599, rs1366594, rs12203592, ...</td>\n",
       "    </tr>\n",
       "    <tr>\n",
       "      <th>1</th>\n",
       "      <td>WP2333</td>\n",
       "      <td>Trans-sulfuration pathway</td>\n",
       "      <td>rs6586282</td>\n",
       "    </tr>\n",
       "    <tr>\n",
       "      <th>2</th>\n",
       "      <td>WP2509</td>\n",
       "      <td>Nanoparticle triggered autophagic cell death</td>\n",
       "      <td>rs7111341, rs2241880, rs3792109, rs891088, rs2...</td>\n",
       "    </tr>\n",
       "    <tr>\n",
       "      <th>3</th>\n",
       "      <td>WP3891</td>\n",
       "      <td>Benzene metabolism</td>\n",
       "      <td></td>\n",
       "    </tr>\n",
       "    <tr>\n",
       "      <th>4</th>\n",
       "      <td>WP1604</td>\n",
       "      <td>Codeine and Morphine Metabolism</td>\n",
       "      <td>rs6742078, rs4149081, rs887829, rs4148325, rs1...</td>\n",
       "    </tr>\n",
       "  </tbody>\n",
       "</table>\n",
       "</div>"
      ],
      "text/plain": [
       "  wikipathways_id                                          name  \\\n",
       "0            WP23             B Cell Receptor Signaling Pathway   \n",
       "1          WP2333                     Trans-sulfuration pathway   \n",
       "2          WP2509  Nanoparticle triggered autophagic cell death   \n",
       "3          WP3891                            Benzene metabolism   \n",
       "4          WP1604               Codeine and Morphine Metabolism   \n",
       "\n",
       "                                                snps  \n",
       "0  rs3780792, rs13017599, rs1366594, rs12203592, ...  \n",
       "1                                          rs6586282  \n",
       "2  rs7111341, rs2241880, rs3792109, rs891088, rs2...  \n",
       "3                                                     \n",
       "4  rs6742078, rs4149081, rs887829, rs4148325, rs1...  "
      ]
     },
     "execution_count": 15,
     "metadata": {},
     "output_type": "execute_result"
    }
   ],
   "source": [
    "wikipathways_df = pd.DataFrame([\n",
    "    (pathway.wikipathways_id, pathway.name, ', '.join(snps))\n",
    "    for pathway, snps in wikipathways_pathway_to_snp.items()\n",
    "], columns=['wikipathways_id', 'name', 'snps'])\n",
    "wikipathways_df.head()"
   ]
  },
  {
   "cell_type": "markdown",
   "metadata": {},
   "source": [
    "### Reactome"
   ]
  },
  {
   "cell_type": "code",
   "execution_count": 16,
   "metadata": {},
   "outputs": [
    {
     "data": {
      "application/vnd.jupyter.widget-view+json": {
       "model_id": "7c69e93eff494a76a1b33711c31df89a",
       "version_major": 2,
       "version_minor": 0
      },
      "text/plain": [
       "HBox(children=(IntProgress(value=0, description='Getting pathways/genes', max=23621, style=ProgressStyle(descr…"
      ]
     },
     "metadata": {},
     "output_type": "display_data"
    },
    {
     "name": "stdout",
     "output_type": "stream",
     "text": [
      "\n"
     ]
    }
   ],
   "source": [
    "reactome_manager = bio2bel_reactome.Manager()\n",
    "reactome_pathway_to_gene = get_pathway_to_gene(reactome_manager)\n",
    "reactome_pathway_to_snp = get_pathway_to_snp(reactome_pathway_to_gene)"
   ]
  },
  {
   "cell_type": "code",
   "execution_count": 17,
   "metadata": {},
   "outputs": [
    {
     "data": {
      "text/html": [
       "<div>\n",
       "<style scoped>\n",
       "    .dataframe tbody tr th:only-of-type {\n",
       "        vertical-align: middle;\n",
       "    }\n",
       "\n",
       "    .dataframe tbody tr th {\n",
       "        vertical-align: top;\n",
       "    }\n",
       "\n",
       "    .dataframe thead th {\n",
       "        text-align: right;\n",
       "    }\n",
       "</style>\n",
       "<table border=\"1\" class=\"dataframe\">\n",
       "  <thead>\n",
       "    <tr style=\"text-align: right;\">\n",
       "      <th></th>\n",
       "      <th>reactome_id</th>\n",
       "      <th>name</th>\n",
       "      <th>snps</th>\n",
       "    </tr>\n",
       "  </thead>\n",
       "  <tbody>\n",
       "    <tr>\n",
       "      <th>0</th>\n",
       "      <td>R-HSA-1640170</td>\n",
       "      <td>Cell Cycle</td>\n",
       "      <td>rs2277339, rs2312147, rs4668356, rs2244012, rs...</td>\n",
       "    </tr>\n",
       "    <tr>\n",
       "      <th>1</th>\n",
       "      <td>R-HSA-109581</td>\n",
       "      <td>Apoptosis</td>\n",
       "      <td>rs2084385, rs242557, rs710521, rs8070723, rs81...</td>\n",
       "    </tr>\n",
       "    <tr>\n",
       "      <th>2</th>\n",
       "      <td>R-HSA-1500931</td>\n",
       "      <td>Cell-Cell communication</td>\n",
       "      <td>rs4925189, rs4468878, rs3784962, rs13078807, r...</td>\n",
       "    </tr>\n",
       "    <tr>\n",
       "      <th>3</th>\n",
       "      <td>R-HSA-8953897</td>\n",
       "      <td>Cellular responses to external stimuli</td>\n",
       "      <td>rs12138950, rs1127065, rs2244012, rs7805747, r...</td>\n",
       "    </tr>\n",
       "    <tr>\n",
       "      <th>4</th>\n",
       "      <td>R-HSA-4839726</td>\n",
       "      <td>Chromatin organization</td>\n",
       "      <td>rs2900333, rs7538876, rs12423712, rs10758669, ...</td>\n",
       "    </tr>\n",
       "  </tbody>\n",
       "</table>\n",
       "</div>"
      ],
      "text/plain": [
       "     reactome_id                                    name  \\\n",
       "0  R-HSA-1640170                              Cell Cycle   \n",
       "1   R-HSA-109581                               Apoptosis   \n",
       "2  R-HSA-1500931                 Cell-Cell communication   \n",
       "3  R-HSA-8953897  Cellular responses to external stimuli   \n",
       "4  R-HSA-4839726                  Chromatin organization   \n",
       "\n",
       "                                                snps  \n",
       "0  rs2277339, rs2312147, rs4668356, rs2244012, rs...  \n",
       "1  rs2084385, rs242557, rs710521, rs8070723, rs81...  \n",
       "2  rs4925189, rs4468878, rs3784962, rs13078807, r...  \n",
       "3  rs12138950, rs1127065, rs2244012, rs7805747, r...  \n",
       "4  rs2900333, rs7538876, rs12423712, rs10758669, ...  "
      ]
     },
     "execution_count": 17,
     "metadata": {},
     "output_type": "execute_result"
    }
   ],
   "source": [
    "reactome_df = pd.DataFrame([\n",
    "    (pathway.reactome_id, pathway.name, ', '.join(snps))\n",
    "    for pathway, snps in reactome_pathway_to_snp.items()\n",
    "], columns=['reactome_id', 'name', 'snps'])\n",
    "reactome_df.head()"
   ]
  },
  {
   "cell_type": "markdown",
   "metadata": {},
   "source": [
    "Output all TSVs for reuse"
   ]
  },
  {
   "cell_type": "code",
   "execution_count": 18,
   "metadata": {},
   "outputs": [],
   "source": [
    "kegg_df.to_csv('kegg_to_snp.tsv', index=False, sep='\\t')\n",
    "wikipathways_df.to_csv('wikipathways_to_snp.tsv', index=False, sep='\\t')\n",
    "reactome_df.to_csv('reactome_to_snp.tsv', index=False, sep='\\t')"
   ]
  }
 ],
 "metadata": {
  "kernelspec": {
   "display_name": "Python 3",
   "language": "python",
   "name": "python3"
  },
  "language_info": {
   "codemirror_mode": {
    "name": "ipython",
    "version": 3
   },
   "file_extension": ".py",
   "mimetype": "text/x-python",
   "name": "python",
   "nbconvert_exporter": "python",
   "pygments_lexer": "ipython3",
   "version": "3.7.3"
  }
 },
 "nbformat": 4,
 "nbformat_minor": 2
}
