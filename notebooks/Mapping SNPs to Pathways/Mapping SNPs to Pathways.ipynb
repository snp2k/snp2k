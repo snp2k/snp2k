{
 "cells": [
  {
   "cell_type": "markdown",
   "metadata": {},
   "source": [
    "After we saw the following [tweet](https://twitter.com/cecilejanssens/status/1142864439638679554) from [@cecilejanssens](https://twitter.com/cecilejanssens):\n",
    "\n",
    "<blockquote class=\"twitter-tweet\" data-lang=\"en\"><p lang=\"en\" dir=\"ltr\">Why I think (current) polygenic risk scores are just a phase? Because I believe that scientists will find better ways ways to model the role of SNPs in molecular pathways and their combined contribution to disease risk. This cannot be it. <a href=\"https://t.co/p9nP5hgQV0\">pic.twitter.com/p9nP5hgQV0</a></p>&mdash; Cecile Janssens (@cecilejanssens) <a href=\"https://twitter.com/cecilejanssens/status/1142864439638679554?ref_src=twsrc%5Etfw\">June 23, 2019</a></blockquote>\n",
    "<script async src=\"https://platform.twitter.com/widgets.js\" charset=\"utf-8\"></script>\n",
    "\n",
    "Daniel and I asked how easy it would be to map single nucleotide polymorphisms (SNPs) from a [Bio2BEL](https://github.com/bio2bel) repository like [``bio2bel_phewascatalog``](https://github.com/bio2bel/phewascatalog) to one of the major pathway databases like KEGG, Reactome, and WikiPathways."
   ]
  },
  {
   "cell_type": "code",
   "execution_count": null,
   "metadata": {},
   "outputs": [],
   "source": [
    "import getpass\n",
    "import os\n",
    "import sys\n",
    "import time\n",
    "from collections import defaultdict, Counter\n",
    "\n",
    "import bio2bel_kegg\n",
    "import bio2bel_phewascatalog\n",
    "import bio2bel_reactome\n",
    "import bio2bel_wikipathways\n",
    "import matplotlib.pyplot as plt\n",
    "import pandas as pd\n",
    "from tqdm import tqdm_notebook as tqdm"
   ]
  },
  {
   "cell_type": "code",
   "execution_count": null,
   "metadata": {},
   "outputs": [],
   "source": [
    "%matplotlib inline"
   ]
  },
  {
   "cell_type": "code",
   "execution_count": null,
   "metadata": {},
   "outputs": [],
   "source": [
    "print(sys.version)"
   ]
  },
  {
   "cell_type": "code",
   "execution_count": null,
   "metadata": {},
   "outputs": [],
   "source": [
    "print(time.asctime())"
   ]
  },
  {
   "cell_type": "code",
   "execution_count": null,
   "metadata": {},
   "outputs": [],
   "source": [
    "print(getpass.getuser())"
   ]
  },
  {
   "cell_type": "code",
   "execution_count": null,
   "metadata": {},
   "outputs": [],
   "source": [
    "print(bio2bel_kegg.get_version())\n",
    "print(bio2bel_reactome.get_version())\n",
    "print(bio2bel_wikipathways.get_version())\n",
    "print(bio2bel_phewascatalog.get_version())"
   ]
  },
  {
   "cell_type": "markdown",
   "metadata": {},
   "source": [
    "## Map SNPs to Genes"
   ]
  },
  {
   "cell_type": "markdown",
   "metadata": {},
   "source": [
    "Generate the gene to SNP mappings from PheWAS Catalog. This step can be interchanged with dbSNP, GWAS Catalog, or other sources."
   ]
  },
  {
   "cell_type": "code",
   "execution_count": null,
   "metadata": {},
   "outputs": [],
   "source": [
    "phewascatalog_df = bio2bel_phewascatalog.parser.get_df()\n",
    "phewascatalog_df = phewascatalog_df[phewascatalog_df.gene_name.notna()]\n",
    "phewascatalog_df.head()"
   ]
  },
  {
   "cell_type": "code",
   "execution_count": null,
   "metadata": {},
   "outputs": [],
   "source": [
    "gene_to_snps = defaultdict(set)\n",
    "for snp, gene_symbol in phewascatalog_df[['snp', 'gene_name']].values:\n",
    "    gene_to_snps[gene_symbol].add(snp)\n",
    "gene_to_snps = dict(gene_to_snps)"
   ]
  },
  {
   "cell_type": "code",
   "execution_count": null,
   "metadata": {},
   "outputs": [],
   "source": [
    "# promiscuity of SNPs\n",
    "Counter(len(v) for v in gene_to_snps.values())"
   ]
  },
  {
   "cell_type": "markdown",
   "metadata": {},
   "source": [
    "## Map Genes to Pathways"
   ]
  },
  {
   "cell_type": "code",
   "execution_count": null,
   "metadata": {},
   "outputs": [],
   "source": [
    "def get_pathway_to_gene(manager):\n",
    "    pathway_to_gene = defaultdict(set)\n",
    "\n",
    "    for pathway in tqdm(manager.get_all_pathways(), desc='Getting pathways/genes'):\n",
    "        for protein in pathway.proteins:\n",
    "            pathway_to_gene[pathway].add(protein.hgnc_symbol)\n",
    "\n",
    "    return dict(pathway_to_gene)\n",
    "\n",
    "def get_pathway_to_snp(pathway_to_gene):\n",
    "    \"\"\"Combine the mappings to relate pathways to SNPs.\n",
    "    \n",
    "    This could be further extended to weight pathway-SNP associations\n",
    "    by count, or to normalize by the frequency of each SNP being\n",
    "    mapped to multiple genes.\n",
    "    \"\"\"\n",
    "    pathway_to_snp = defaultdict(set)\n",
    "\n",
    "    for pathway, gene_symbols in pathway_to_gene.items():\n",
    "        for gene_symbol in gene_symbols:\n",
    "            pathway_to_snp[pathway].update(gene_to_snps.get(gene_symbol, set()))\n",
    "\n",
    "    return dict(pathway_to_snp)"
   ]
  },
  {
   "cell_type": "markdown",
   "metadata": {},
   "source": [
    "### WikiPathways"
   ]
  },
  {
   "cell_type": "code",
   "execution_count": null,
   "metadata": {},
   "outputs": [],
   "source": [
    "wikipathways_manager = bio2bel_wikipathways.Manager()\n",
    "\n",
    "if not wikipathways_manager.is_populated():\n",
    "    wikipathways_manager.populate()\n",
    "\n",
    "wikipathways_manager.summarize()"
   ]
  },
  {
   "cell_type": "code",
   "execution_count": null,
   "metadata": {},
   "outputs": [],
   "source": [
    "wikipathways_pathway_to_gene = get_pathway_to_gene(wikipathways_manager)\n",
    "wikipathways_pathway_to_snp = get_pathway_to_snp(wikipathways_pathway_to_gene)"
   ]
  },
  {
   "cell_type": "code",
   "execution_count": null,
   "metadata": {},
   "outputs": [],
   "source": [
    "wikipathways_df = pd.DataFrame([\n",
    "    (pathway.wikipathways_id, pathway.name, snp)\n",
    "    for pathway, snps in wikipathways_pathway_to_snp.items()\n",
    "    for snp in snps\n",
    "], columns=['wikipathways_id', 'name', 'snp'])\n",
    "wikipathways_df.head()"
   ]
  },
  {
   "cell_type": "code",
   "execution_count": null,
   "metadata": {},
   "outputs": [],
   "source": [
    "wikipathways_df.to_csv('wikipathways_to_snp.tsv', index=False, sep='\\t')"
   ]
  },
  {
   "cell_type": "markdown",
   "metadata": {},
   "source": [
    "### KEGG"
   ]
  },
  {
   "cell_type": "code",
   "execution_count": null,
   "metadata": {},
   "outputs": [],
   "source": [
    "kegg_manager = bio2bel_kegg.Manager()\n",
    "\n",
    "if not kegg_manager.is_populated():\n",
    "    kegg_manager.populate()\n",
    "    \n",
    "kegg_manager.summarize()"
   ]
  },
  {
   "cell_type": "code",
   "execution_count": null,
   "metadata": {},
   "outputs": [],
   "source": [
    "kegg_pathway_to_gene = get_pathway_to_gene(kegg_manager)\n",
    "kegg_pathway_to_snp = get_pathway_to_snp(kegg_pathway_to_gene)"
   ]
  },
  {
   "cell_type": "code",
   "execution_count": null,
   "metadata": {},
   "outputs": [],
   "source": [
    "kegg_df = pd.DataFrame([\n",
    "    (pathway.kegg_id, pathway.name, snp)\n",
    "    for pathway, snps in kegg_pathway_to_snp.items()\n",
    "    for snp in snps\n",
    "], columns=['kegg_id', 'name', 'snp'])\n",
    "kegg_df.head()"
   ]
  },
  {
   "cell_type": "code",
   "execution_count": null,
   "metadata": {},
   "outputs": [],
   "source": [
    "kegg_df.to_csv('kegg_to_snp.tsv', index=False, sep='\\t')"
   ]
  },
  {
   "cell_type": "markdown",
   "metadata": {},
   "source": [
    "### Reactome"
   ]
  },
  {
   "cell_type": "code",
   "execution_count": null,
   "metadata": {},
   "outputs": [],
   "source": [
    "reactome_manager = bio2bel_reactome.Manager()\n",
    "\n",
    "if not reactome_manager.is_populated():\n",
    "    reactome_manager.populate()\n",
    "    \n",
    "reactome_manager.summarize()"
   ]
  },
  {
   "cell_type": "code",
   "execution_count": null,
   "metadata": {},
   "outputs": [],
   "source": [
    "reactome_pathway_to_gene = get_pathway_to_gene(reactome_manager)\n",
    "reactome_pathway_to_snp = get_pathway_to_snp(reactome_pathway_to_gene)"
   ]
  },
  {
   "cell_type": "code",
   "execution_count": null,
   "metadata": {},
   "outputs": [],
   "source": [
    "reactome_df = pd.DataFrame([\n",
    "    (pathway.reactome_id, pathway.name, snp)\n",
    "    for pathway, snps in reactome_pathway_to_snp.items()\n",
    "    for snp in snps\n",
    "], columns=['reactome_id', 'name', 'snp'])\n",
    "reactome_df.head()"
   ]
  },
  {
   "cell_type": "code",
   "execution_count": null,
   "metadata": {},
   "outputs": [],
   "source": [
    "reactome_df.to_csv('reactome_to_snp.tsv', index=False, sep='\\t')"
   ]
  }
 ],
 "metadata": {
  "kernelspec": {
   "display_name": "Python 3",
   "language": "python",
   "name": "python3"
  },
  "language_info": {
   "codemirror_mode": {
    "name": "ipython",
    "version": 3
   },
   "file_extension": ".py",
   "mimetype": "text/x-python",
   "name": "python",
   "nbconvert_exporter": "python",
   "pygments_lexer": "ipython3",
   "version": "3.7.4"
  }
 },
 "nbformat": 4,
 "nbformat_minor": 2
}
